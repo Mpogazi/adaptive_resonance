{
 "cells": [
  {
   "cell_type": "markdown",
   "id": "e0a50a94-0cd7-4e1e-8750-8e89b96bb582",
   "metadata": {},
   "source": [
    "#### A Massively Parallel Architecture for a Self-Organizing Neural Pattern Recognition Machine\n",
    "\n"
   ]
  },
  {
   "cell_type": "code",
   "execution_count": null,
   "id": "949c8a5d-91f6-47d5-b56a-f4da4b9319be",
   "metadata": {},
   "outputs": [],
   "source": []
  },
  {
   "cell_type": "code",
   "execution_count": null,
   "id": "f21afbaa-cd35-4117-9aea-d77a260d6a7b",
   "metadata": {},
   "outputs": [],
   "source": []
  },
  {
   "cell_type": "code",
   "execution_count": null,
   "id": "9dcf31e2-e4a2-423a-af94-9ee196ae0f9b",
   "metadata": {},
   "outputs": [],
   "source": []
  }
 ],
 "metadata": {
  "kernelspec": {
   "display_name": "Python (python_env)",
   "language": "python",
   "name": "python_env"
  },
  "language_info": {
   "codemirror_mode": {
    "name": "ipython",
    "version": 3
   },
   "file_extension": ".py",
   "mimetype": "text/x-python",
   "name": "python",
   "nbconvert_exporter": "python",
   "pygments_lexer": "ipython3",
   "version": "3.9.6"
  }
 },
 "nbformat": 4,
 "nbformat_minor": 5
}
